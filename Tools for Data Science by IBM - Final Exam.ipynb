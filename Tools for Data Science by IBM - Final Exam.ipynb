{
 "cells": [
  {
   "cell_type": "markdown",
   "id": "71e3fe1f",
   "metadata": {},
   "source": [
    "# Tools for Data Science by IBM - Final Exam."
   ]
  },
  {
   "cell_type": "markdown",
   "id": "684f55b9",
   "metadata": {},
   "source": [
    "Introduction"
   ]
  },
  {
   "cell_type": "markdown",
   "id": "ef266e90",
   "metadata": {},
   "source": [
    "\n",
    "Data Science languages:\n",
    "\n",
    "Python\n",
    "\n",
    "R\n",
    "Julia\n",
    "\n",
    "Java\n",
    "\n",
    "Javascript\n",
    "\n",
    "Scala\n",
    "\n",
    "SQL\n"
   ]
  },
  {
   "cell_type": "markdown",
   "id": "d0c33d99",
   "metadata": {},
   "source": [
    "Data Science libraries:\n",
    "\n",
    "Python Data Science Libraries:\n",
    "\n",
    "NumPy: for numerical computing and array processing\n",
    "\n",
    "Pandas: for data manipulation and analysis\n",
    "\n",
    "Matplotlib: for data visualization\n",
    "\n",
    "\n",
    "Seaborn: for advanced data visualization\n",
    "\n",
    "Scikit-learn: for machine learning algorithms\n",
    "\n",
    "TensorFlow: for building and training deep learning models\n",
    "\n",
    "PyTorch: for building and training deep learning models\n",
    "\n",
    "\n",
    "R Data Science Libraries:\n",
    "\n",
    "dplyr: for data manipulation\n",
    "\n",
    "ggplot2: for data visualization\n",
    "\n",
    "caret: for machine learning algorithms\n",
    "\n",
    "shiny: for creating interactive web applications with R\n",
    "\n",
    "Julia Data Science Libraries:\n",
    "\n",
    "DataFrames.jl: for data manipulation\n",
    "\n",
    "Plots.jl: for data visualization\n",
    "\n",
    "Flux.jl: for building and training deep learning models"
   ]
  },
  {
   "cell_type": "markdown",
   "id": "7cd79ccb",
   "metadata": {},
   "source": [
    "| Data Science tools|\n",
    "|-------------------|\n",
    "| Apache Spark      |\n",
    "| Tableau           |\n",
    "| SAS               |\n",
    "| Power BI          |"
   ]
  },
  {
   "cell_type": "markdown",
   "id": "b4c10f0f",
   "metadata": {},
   "source": [
    "# Addition\n",
    "a = 5\n",
    "b = 3\n",
    "c = a + b\n",
    "print(c)  # Output: 8\n",
    "\n",
    "# Subtraction\n",
    "a = 5\n",
    "b = 3\n",
    "c = a - b\n",
    "print(c)  # Output: 2\n",
    "\n",
    "# Multiplication\n",
    "a = 5\n",
    "b = 3\n",
    "c = a * b\n",
    "print(c)  # Output: 15\n",
    "\n",
    "# Division\n",
    "a = 5\n",
    "b = 3\n",
    "c = a / b\n",
    "print(c)  # Output: 1.6666666666666667\n",
    "\n",
    "# Exponents\n",
    "a = 5\n",
    "b = 3\n",
    "c = a ** b\n",
    "print(c)  # Output: 125\n",
    "\n",
    "# Modulus\n",
    "a = 5\n",
    "b = 3\n",
    "c = a % b\n",
    "print(c)  # Output: 2\n",
    "\n",
    "# Floor Division\n",
    "a = 5\n",
    "b = 3\n",
    "c = a // b\n",
    "print(c)  # Output: 1\n"
   ]
  },
  {
   "cell_type": "markdown",
   "id": "e4c51903",
   "metadata": {},
   "source": [
    "# Multiplication\n",
    "a = 5\n",
    "b = 3\n",
    "c = a * b\n",
    "print(c)  # Output: 15\n",
    "\n",
    "# Addition\n",
    "a = 5\n",
    "b = 3\n",
    "c = a + b\n",
    "print(c)  # Output: 8\n"
   ]
  },
  {
   "cell_type": "code",
   "execution_count": 5,
   "id": "051f36a7",
   "metadata": {},
   "outputs": [
    {
     "name": "stdout",
     "output_type": "stream",
     "text": [
      "120 minutes is equal to 2.0 hours.\n"
     ]
    }
   ],
   "source": [
    "# Convert minutes to hours\n",
    "minutes = 120\n",
    "hours = minutes / 60\n",
    "print(\"120 minutes is equal to\", hours, \"hours.\")\n"
   ]
  },
  {
   "cell_type": "markdown",
   "id": "c6003cf2",
   "metadata": {},
   "source": [
    "OBJECTIVES\n",
    "Learn Data Science."
   ]
  },
  {
   "cell_type": "markdown",
   "id": "087d0278",
   "metadata": {},
   "source": [
    "Author: Marina Lima"
   ]
  },
  {
   "cell_type": "code",
   "execution_count": null,
   "id": "1c75f27a",
   "metadata": {},
   "outputs": [],
   "source": []
  }
 ],
 "metadata": {
  "kernelspec": {
   "display_name": "Python 3 (ipykernel)",
   "language": "python",
   "name": "python3"
  },
  "language_info": {
   "codemirror_mode": {
    "name": "ipython",
    "version": 3
   },
   "file_extension": ".py",
   "mimetype": "text/x-python",
   "name": "python",
   "nbconvert_exporter": "python",
   "pygments_lexer": "ipython3",
   "version": "3.9.13"
  }
 },
 "nbformat": 4,
 "nbformat_minor": 5
}
